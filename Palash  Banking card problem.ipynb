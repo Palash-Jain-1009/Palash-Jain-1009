{
 "cells": [
  {
   "cell_type": "markdown",
   "metadata": {},
   "source": [
    "# Debit Card"
   ]
  },
  {
   "cell_type": "code",
   "execution_count": 12,
   "metadata": {
    "ExecuteTime": {
     "end_time": "2020-04-03T14:00:17.348028Z",
     "start_time": "2020-04-03T14:00:14.400198Z"
    }
   },
   "outputs": [
    {
     "name": "stdout",
     "output_type": "stream",
     "text": [
      "Enter card Number:1098765432112345\n",
      "{'cust2': {'8989098909': 343}}\n"
     ]
    }
   ],
   "source": [
    "card_number=int(input(\"Enter card Number:\"))                     # Checking Card Number\n",
    "if len (str(card_number))==14 or len (str(card_number))==16:\n",
    "    print (d[str(card_number)])                                  # d is the variable in which all info of customers is stored\n",
    "else:\n",
    "    print(\"Access Denied\")                                       #if the card number is valid machine will take next step and retrieve personal info the customer which is tored in variable d."
   ]
  },
  {
   "cell_type": "code",
   "execution_count": 15,
   "metadata": {
    "ExecuteTime": {
     "end_time": "2020-04-03T14:01:07.182525Z",
     "start_time": "2020-04-03T14:01:00.212876Z"
    }
   },
   "outputs": [
    {
     "name": "stdout",
     "output_type": "stream",
     "text": [
      "Enter month12\n",
      "Enter Year2016\n",
      "Access\n"
     ]
    }
   ],
   "source": [
    "month=int(input('Enter month')) #Checking month Validity of card\n",
    "year=int(input('Enter Year'))   #Checking year Validity of card\n",
    "if month>=1 and month<=12:\n",
    "    if year<=2020:\n",
    "        print (\"Access\")        #if validity of card is not expired machine will grant access to perform transactory action.\n",
    "    else:\n",
    "        print('Denied; Card Expired')\n",
    "else:\n",
    "    print(\"Denied; Card Expired\")  ##if validity of card is expired machine will deny access to perform transactory action.\n",
    "        "
   ]
  },
  {
   "cell_type": "code",
   "execution_count": 3,
   "metadata": {
    "ExecuteTime": {
     "end_time": "2020-04-03T14:00:01.506920Z",
     "start_time": "2020-04-03T14:00:01.476937Z"
    }
   },
   "outputs": [
    {
     "data": {
      "text/plain": [
       "[650, 343, 390, 496, 897]"
      ]
     },
     "execution_count": 3,
     "metadata": {},
     "output_type": "execute_result"
    }
   ],
   "source": [
    "dictionary={'cust1':'12345678901234','cust2':'1098765432112345','cust3':'23456789014235','cust4':'97878652846104','cust5':'40194639275820'}\n",
    "#Above dictionary is is for card numbers which are assigned different account holders\n",
    "\n",
    "import random                                        #Generating random cvv for different customers.\n",
    "\n",
    "cvv=[]                                               #taking cvv into empty list \n",
    "for i in range(0,len(dictionary)):\n",
    "    cvv=cvv+[random.randint(100,1000)]\n",
    "    \n",
    "cvv                                                  #printing cvv\n"
   ]
  },
  {
   "cell_type": "code",
   "execution_count": 4,
   "metadata": {
    "ExecuteTime": {
     "end_time": "2020-04-03T14:00:02.699945Z",
     "start_time": "2020-04-03T14:00:02.694947Z"
    }
   },
   "outputs": [],
   "source": [
    "dict2={'9898098909':cvv[0],'8989098909':cvv[1],'7899877890':cvv[2],'8689878024':cvv[3],'7183964927':cvv[4]} #assigning mobile numbers with accordance to cvv generated"
   ]
  },
  {
   "cell_type": "code",
   "execution_count": 5,
   "metadata": {
    "ExecuteTime": {
     "end_time": "2020-04-03T14:00:03.285779Z",
     "start_time": "2020-04-03T14:00:03.278785Z"
    }
   },
   "outputs": [
    {
     "data": {
      "text/plain": [
       "dict_keys(['9898098909', '8989098909', '7899877890', '8689878024', '7183964927'])"
      ]
     },
     "execution_count": 5,
     "metadata": {},
     "output_type": "execute_result"
    }
   ],
   "source": [
    "dict2.keys() #having a look at mobile numbers of customers"
   ]
  },
  {
   "cell_type": "code",
   "execution_count": 6,
   "metadata": {
    "ExecuteTime": {
     "end_time": "2020-04-03T14:00:03.560115Z",
     "start_time": "2020-04-03T14:00:03.552115Z"
    }
   },
   "outputs": [
    {
     "name": "stdout",
     "output_type": "stream",
     "text": [
      "['9898098909', '8989098909', '7899877890', '8689878024', '7183964927']\n"
     ]
    }
   ],
   "source": [
    "a=list(dict2.keys()) # taking mobile numbers to seperate variable\n",
    "print(a)"
   ]
  },
  {
   "cell_type": "code",
   "execution_count": 7,
   "metadata": {
    "ExecuteTime": {
     "end_time": "2020-04-03T14:00:03.778468Z",
     "start_time": "2020-04-03T14:00:03.772474Z"
    }
   },
   "outputs": [
    {
     "name": "stdout",
     "output_type": "stream",
     "text": [
      "['cust1', 'cust2', 'cust3', 'cust4', 'cust5']\n"
     ]
    }
   ],
   "source": [
    "b=list(dictionary.keys()) #taking names to a seperate variable\n",
    "print(b)"
   ]
  },
  {
   "cell_type": "code",
   "execution_count": 8,
   "metadata": {
    "ExecuteTime": {
     "end_time": "2020-04-03T14:00:04.013459Z",
     "start_time": "2020-04-03T14:00:04.006462Z"
    }
   },
   "outputs": [
    {
     "name": "stdout",
     "output_type": "stream",
     "text": [
      "['12345678901234', '1098765432112345', '23456789014235', '97878652846104', '40194639275820']\n"
     ]
    }
   ],
   "source": [
    "c=list(dictionary.values())  #taking card numbers to a seperate variable\n",
    "print(c)"
   ]
  },
  {
   "cell_type": "code",
   "execution_count": 9,
   "metadata": {
    "ExecuteTime": {
     "end_time": "2020-04-03T14:00:04.213253Z",
     "start_time": "2020-04-03T14:00:04.205259Z"
    }
   },
   "outputs": [
    {
     "name": "stdout",
     "output_type": "stream",
     "text": [
      "{'cust1': {'9898098909': 650}}\n"
     ]
    }
   ],
   "source": [
    "d={c[i]:{b[i]:{a[i]:cvv[i]}} for i in range(len(b))} #assigning a dictionary consisting mobile no.,cvv,name,card number to a new variable\n",
    "print(d['12345678901234'])"
   ]
  }
 ],
 "metadata": {
  "kernelspec": {
   "display_name": "Python 3",
   "language": "python",
   "name": "python3"
  },
  "language_info": {
   "codemirror_mode": {
    "name": "ipython",
    "version": 3
   },
   "file_extension": ".py",
   "mimetype": "text/x-python",
   "name": "python",
   "nbconvert_exporter": "python",
   "pygments_lexer": "ipython3",
   "version": "3.7.4"
  }
 },
 "nbformat": 4,
 "nbformat_minor": 2
}
